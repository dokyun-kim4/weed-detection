{
 "cells": [
  {
   "cell_type": "code",
   "execution_count": 4,
   "metadata": {},
   "outputs": [
    {
     "name": "stdout",
     "output_type": "stream",
     "text": [
      "added\n"
     ]
    }
   ],
   "source": [
    "import cv2 as cv\n",
    "import time\n",
    "import numpy as np\n",
    "import matplotlib.pyplot as plt\n",
    "from math import sqrt\n",
    "\n",
    "# Custom helpers\n",
    "import modules.cv_helpers as ch\n",
    "import modules.plantnet_helpers as ph\n",
    "from sklearn.cluster import DBSCAN\n",
    "\n",
    "# Read in image\n",
    "image = cv.imread(\"./img/test2.jpg\")\n",
    "\n",
    "# TODO\n",
    "# video camera trigger\n",
    "\n",
    "# Get green areas and remove noise\n",
    "green_areas = ch.get_green(image)\n",
    "\n",
    "img_denoised = cv.fastNlMeansDenoisingColored(\n",
    "    green_areas, None, h=70, templateWindowSize=7, searchWindowSize=21\n",
    ")\n",
    "# Convert to binary image to apply clustering algorithm\n",
    "bnw_image = ch.green_to_bnw(img_denoised)\n",
    "white_points = ch.binary_to_cartesian(bnw_image)"
   ]
  },
  {
   "cell_type": "code",
   "execution_count": 86,
   "metadata": {},
   "outputs": [
    {
     "name": "stdout",
     "output_type": "stream",
     "text": [
      "added\n"
     ]
    }
   ],
   "source": []
  },
  {
   "cell_type": "code",
   "execution_count": 28,
   "metadata": {},
   "outputs": [
    {
     "name": "stdout",
     "output_type": "stream",
     "text": [
      "added\n",
      "New: 0.1788485050201416\n"
     ]
    },
    {
     "data": {
      "image/png": "[encoded data removed]",
      "text/plain": [
       "<Figure size 432x288 with 1 Axes>"
      ]
     },
     "metadata": {
      "needs_background": "light"
     },
     "output_type": "display_data"
    }
   ],
   "source": [
    "start = time.time()\n",
    "total_pixels = 20000\n",
    "\n",
    "frac_x = bnw_image.shape[0]/bnw_image.shape[1]\n",
    "new_x = round(sqrt(total_pixels/frac_x))\n",
    "new_y = round(new_x * frac_x)\n",
    "old_new_img_ratio = bnw_image.shape[0]/new_y\n",
    "\n",
    "resized_img = cv.resize(bnw_image, (new_x, new_y))\n",
    "white_points_resized = ch.binary_to_cartesian(resized_img)\n",
    "\n",
    "dbscan_model = DBSCAN(eps=10, min_samples=10, n_jobs=-1)\n",
    "dbscan_model.fit(white_points_resized)\n",
    "dbscan_result = dbscan_model.fit_predict(white_points_resized)\n",
    "print(\"New: \" + str(time.time() - start))\n",
    "\n",
    "\n",
    "# get all of the unique clusters\n",
    "white_points_final = white_points_resized * old_new_img_ratio\n",
    "dbscan_clusters = np.unique(dbscan_result)\n",
    "\n",
    "# plot the DBSCAN clusters\n",
    "for dbscan_cluster in dbscan_clusters:\n",
    "    # get data points that fall in this cluster\n",
    "    index = np.where(dbscan_result == dbscan_cluster)\n",
    "    # make the plot\n",
    "    plt.scatter(white_points_final[index, 0], white_points_final[index, 1])\n",
    "\n",
    "# show the DBSCAN plot\n",
    "plt.show()"
   ]
  }
 ],
 "metadata": {
  "kernelspec": {
   "display_name": "Python 3",
   "language": "python",
   "name": "python3"
  },
  "language_info": {
   "codemirror_mode": {
    "name": "ipython",
    "version": 3
   },
   "file_extension": ".py",
   "mimetype": "text/x-python",
   "name": "python",
   "nbconvert_exporter": "python",
   "pygments_lexer": "ipython3",
   "version": "3.9.13"
  }
 },
 "nbformat": 4,
 "nbformat_minor": 2
}
